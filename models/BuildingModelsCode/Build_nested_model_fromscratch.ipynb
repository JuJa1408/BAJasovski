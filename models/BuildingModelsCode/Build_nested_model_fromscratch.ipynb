{
 "cells": [
  {
   "cell_type": "code",
   "execution_count": 2,
   "id": "1f372dd4",
   "metadata": {},
   "outputs": [],
   "source": [
    "import cobra\n",
    "from cobra import Model, Reaction, Metabolite\n",
    "import numpy as np\n",
    "import pandas as pd\n",
    "import random\n",
    "from os.path import join\n",
    "from itertools import chain, permutations, product\n",
    "\n",
    "\n",
    "\n"
   ]
  },
  {
   "cell_type": "code",
   "execution_count": 3,
   "id": "22be01f8",
   "metadata": {},
   "outputs": [
    {
     "name": "stdout",
     "output_type": "stream",
     "text": [
      "   M_SO4ex_gen_srb  M_H2Sex_gen_srb  M_ATPex_srb  M_bm_srb  M_CO2ex_gen_srb  \\\n",
      "0        -1.000000         1.000000          0.0       0.0          0.00000   \n",
      "1        -2.000000         2.000000          1.5       0.0          0.00000   \n",
      "2        -1.000000         1.000000          0.0       0.0          2.80000   \n",
      "3      -328.893333       328.893333          0.0       3.0          0.00000   \n",
      "4      -492.531875       492.531875          0.0       3.0        981.83125   \n",
      "5      -160.668000       160.668000          0.0       1.5        -22.67200   \n",
      "6      -107.112000       107.112000          0.0       1.0        -45.99600   \n",
      "7        -1.000000         1.000000          0.0       0.0          2.00000   \n",
      "8        -1.000000         1.000000          0.5       0.0          2.00000   \n",
      "\n",
      "   M_NH3ex_gen_srb  M_H2pool_gen_srb  M_ac_pool_srb  \n",
      "0           0.0000         -4.000000       0.000000  \n",
      "1           0.0000         -8.000000       0.000000  \n",
      "2           0.0000          1.600000      -1.400000  \n",
      "3         -37.5390      -1309.108333     -68.994000  \n",
      "4         -37.5390          0.000000    -559.909625  \n",
      "5         -18.7695       -684.783500     -23.161000  \n",
      "6         -12.5130       -518.285000       0.000000  \n",
      "7           0.0000          0.000000      -1.000000  \n",
      "8           0.0000          0.000000      -1.000000  \n"
     ]
    }
   ],
   "source": [
    "fap_ecm = pd.read_csv('WedmarkModel\\exchange-enumeration\\_results\\ecm\\_fap.csv', index_col=0)\n",
    "srb_ecm = pd.read_csv('WedmarkModel\\exchange-enumeration\\_results\\ecm\\srb.csv', index_col=0)\n",
    "syn_ecm = pd.read_csv('WedmarkModel\\exchange-enumeration\\_results\\ecm\\syn.csv', index_col=0)\n",
    "\n",
    "ecms = [fap_ecm, srb_ecm, syn_ecm]\n",
    "\n",
    "print(srb_ecm)"
   ]
  },
  {
   "cell_type": "code",
   "execution_count": 4,
   "id": "e64b66b5",
   "metadata": {},
   "outputs": [],
   "source": [
    "def calculate_efficiency(row, product_col, substrate_col):\n",
    "    if row[substrate_col] != 0:\n",
    "        return row[product_col] / abs(row[substrate_col])\n",
    "    return 0"
   ]
  },
  {
   "cell_type": "code",
   "execution_count": 5,
   "id": "97da0538",
   "metadata": {},
   "outputs": [
    {
     "name": "stdout",
     "output_type": "stream",
     "text": [
      "Top 5 Biomass Efficient EMs for FAP:\n",
      "    bm_efficiency  M_bm_fap  M_hv_gen_fap\n",
      "58       0.024613  0.079917     -3.246970\n",
      "77       0.008361  0.079917     -9.558806\n",
      "30       0.008197  0.079917     -9.750073\n",
      "45       0.008095  0.079917     -9.872026\n",
      "39       0.007966  0.079917    -10.032872\n",
      "\n",
      "Top 5 ATP Efficient EMs for FAP:\n",
      "    atp_efficiency  M_ATPex_fap  M_hv_gen_fap\n",
      "44             0.5          0.5     -1.000000\n",
      "0              0.0          0.0    -12.000000\n",
      "1              0.0          0.0    -11.130611\n",
      "2              0.0          5.0      0.000000\n",
      "3              0.0          0.0      0.000000\n",
      "\n",
      "Top 5 Biomass Efficient EMs for SRB:\n",
      "   bm_efficiency  M_bm_srb  M_H2pool_gen_srb\n",
      "3       0.002292       3.0      -1309.108333\n",
      "5       0.002190       1.5       -684.783500\n",
      "6       0.001929       1.0       -518.285000\n",
      "0       0.000000       0.0         -4.000000\n",
      "1       0.000000       0.0         -8.000000\n",
      "\n",
      "Top 5 CO2 Efficient EMs for SRB:\n",
      "   co2_efficiency  M_CO2ex_gen_srb  M_SO4ex_gen_srb\n",
      "2        2.800000          2.80000        -1.000000\n",
      "7        2.000000          2.00000        -1.000000\n",
      "8        2.000000          2.00000        -1.000000\n",
      "4        1.993437        981.83125      -492.531875\n",
      "0        0.000000          0.00000        -1.000000\n",
      "\n",
      "Top 5 Biomass Efficient EMs for SYN:\n",
      "   bm_efficiency  M_bm_syn  M_hv_gen_syn\n",
      "2       0.002541  0.039958    -15.724187\n",
      "0       0.000000  0.000000     -7.125000\n",
      "1       0.000000  0.000000     -8.000000\n",
      "3       0.000000  0.000000     -1.000000\n",
      "4       0.000000  0.000000     -1.000000\n",
      "\n",
      "Top 5 O2 Efficient EMs for SYN:\n",
      "   o2_efficiency  M_O2expool_gen_syn  M_hv_gen_syn\n",
      "1       0.125000            1.000000     -8.000000\n",
      "6       0.122449            3.000000    -24.500000\n",
      "2       0.114147            1.794873    -15.724187\n",
      "7       0.073171            0.750000    -10.250000\n",
      "0       0.070175            0.500000     -7.125000\n"
     ]
    }
   ],
   "source": [
    "fap_ecm['bm_efficiency']  = fap_ecm.apply(lambda row: calculate_efficiency(row, 'M_bm_fap', 'M_hv_gen_fap'), axis=1)\n",
    "srb_ecm['bm_efficiency'] = srb_ecm.apply(lambda row: calculate_efficiency(row, 'M_bm_srb', 'M_H2pool_gen_srb'), axis=1)\n",
    "syn_ecm['bm_efficiency'] = syn_ecm.apply(lambda row: calculate_efficiency(row, 'M_bm_syn', 'M_hv_gen_syn'), axis=1)\n",
    "\n",
    "fap_ecm['atp_efficiency'] = fap_ecm.apply(lambda row: calculate_efficiency(row, 'M_ATPex_fap', 'M_hv_gen_fap'), axis=1)\n",
    "srb_ecm['co2_efficiency'] = srb_ecm.apply(lambda row: calculate_efficiency(row, 'M_CO2ex_gen_srb', 'M_SO4ex_gen_srb'), axis=1)\n",
    "syn_ecm['o2_efficiency'] = syn_ecm.apply(lambda row: calculate_efficiency(row, 'M_O2expool_gen_syn', 'M_hv_gen_syn'), axis=1)\n",
    "\n",
    "\n",
    "print(\"Top 5 Biomass Efficient EMs for FAP:\")\n",
    "print(fap_ecm.nlargest(5, 'bm_efficiency')[['bm_efficiency', 'M_bm_fap', 'M_hv_gen_fap']])\n",
    "\n",
    "print(\"\\nTop 5 ATP Efficient EMs for FAP:\")\n",
    "print(fap_ecm.nlargest(5, 'atp_efficiency')[['atp_efficiency', 'M_ATPex_fap', 'M_hv_gen_fap']])\n",
    "\n",
    "print(\"\\nTop 5 Biomass Efficient EMs for SRB:\")\n",
    "print(srb_ecm.nlargest(5, 'bm_efficiency')[['bm_efficiency', 'M_bm_srb', 'M_H2pool_gen_srb']])\n",
    "\n",
    "print(\"\\nTop 5 CO2 Efficient EMs for SRB:\")\n",
    "print(srb_ecm.nlargest(5, 'co2_efficiency')[['co2_efficiency', 'M_CO2ex_gen_srb', 'M_SO4ex_gen_srb']])\n",
    "\n",
    "print(\"\\nTop 5 Biomass Efficient EMs for SYN:\")\n",
    "print(syn_ecm.nlargest(5, 'bm_efficiency')[['bm_efficiency', 'M_bm_syn', 'M_hv_gen_syn']])\n",
    "\n",
    "print(\"\\nTop 5 O2 Efficient EMs for SYN:\")\n",
    "print(syn_ecm.nlargest(5, 'o2_efficiency')[['o2_efficiency', 'M_O2expool_gen_syn', 'M_hv_gen_syn']])\n",
    "\n"
   ]
  },
  {
   "cell_type": "code",
   "execution_count": 6,
   "id": "1027ca07",
   "metadata": {},
   "outputs": [
    {
     "name": "stdout",
     "output_type": "stream",
     "text": [
      "M_ATPex_fap\n",
      "M_CO2ex_gen_fap\n",
      "M_H2pool_gen_fap\n",
      "M_NH3ex_gen_fap\n",
      "M_bm_fap\n",
      "M_hv_gen_fap\n",
      "M_glycpool_gen_fap\n",
      "M_O2expool_gen_fap\n",
      "M_PHB_fap\n",
      "M_ac_pool_fap\n",
      "M_SO4ex_gen_srb\n",
      "M_H2Sex_gen_srb\n",
      "M_ATPex_srb\n",
      "M_bm_srb\n",
      "M_CO2ex_gen_srb\n",
      "M_NH3ex_gen_srb\n",
      "M_H2pool_gen_srb\n",
      "M_ac_pool_srb\n",
      "M_polyglcex_gen_syn\n",
      "M_CO2ex_gen_syn\n",
      "M_NH3_syn\n",
      "M_NH3ex_gen_syn\n",
      "M_ATPex_syn\n",
      "M_bm_syn\n",
      "M_hv_gen_syn\n",
      "M_O2expool_gen_syn\n",
      "M_glycpool_gen_syn\n",
      "M_glyox_syn\n",
      "M_ac_pool_syn\n"
     ]
    }
   ],
   "source": [
    "selected_ecms = pd.concat([fap_ecm.nlargest(3, 'bm_efficiency'), fap_ecm.nlargest(3, 'atp_efficiency'), srb_ecm.nlargest(3, 'bm_efficiency'), srb_ecm.nlargest(3, 'co2_efficiency'), syn_ecm.nlargest(3, 'bm_efficiency'), syn_ecm.nlargest(4, 'o2_efficiency')], sort = False, ignore_index=True).fillna(0)\n",
    "selected_ecms = selected_ecms.drop('bm_efficiency', axis=1)\n",
    "selected_ecms = selected_ecms.drop('atp_efficiency', axis=1)\n",
    "selected_ecms = selected_ecms.drop('co2_efficiency', axis=1)\n",
    "selected_ecms = selected_ecms.drop('o2_efficiency', axis=1)\n",
    "\n",
    "selected_ecms_syn = pd.concat([syn_ecm.nlargest(3,'bm_efficiency'),syn_ecm.nlargest(4,'o2_efficiency')], sort = False, ignore_index=True).fillna(0)\n",
    "selected_ecms_syn = selected_ecms_syn.drop('bm_efficiency', axis=1)\n",
    "selected_ecms_syn = selected_ecms_syn.drop('o2_efficiency', axis=1)\n",
    "for met in selected_ecms.columns:\n",
    "    #if 'ex' not in met:\n",
    "        print(met)\n",
    "#print(selected_ecms.columns)"
   ]
  },
  {
   "cell_type": "code",
   "execution_count": 7,
   "id": "50da16b4",
   "metadata": {},
   "outputs": [],
   "source": [
    "def getNormalizedData2(ECM, T):\n",
    "\n",
    "    sum_abs_coef = abs(ECM).sum(axis=1)#np.sum(np.abs(ECM), axis=1)\n",
    "    normalized_ECM = ECM.div(sum_abs_coef, axis=0)\n",
    "\n",
    "    return normalized_ECM"
   ]
  },
  {
   "cell_type": "code",
   "execution_count": 8,
   "id": "0b76dedf",
   "metadata": {},
   "outputs": [],
   "source": [
    "\n",
    "# Function to create a reaction from an ECM\n",
    "def create_reaction_from_ecm(ecm, index, model):\n",
    "    reaction = Reaction(f'ECM_{index}')\n",
    "    reaction.name = f'Elementary Mode {index}'\n",
    "    reaction.lower_bound = 0  # Assuming irreversible reactions\n",
    "    reaction.upper_bound = 1000  # You might want to adjust this\n",
    "\n",
    "    for metabolite, coefficient in ecm.items():\n",
    "        if coefficient != 0.0:\n",
    "            if metabolite not in model.metabolites:\n",
    "                met = Metabolite(metabolite, compartment='c')\n",
    "                model.add_metabolites([met])\n",
    "                if 'bm_fap' in met.id:\n",
    "                    bm_fap = met\n",
    "                if 'bm_srb' in met.id:\n",
    "                    bm_srb = met\n",
    "                if 'bm_syn' in met.id:\n",
    "                    bm_syn = met\n",
    "            else:\n",
    "                met = model.metabolites.get_by_id(metabolite)\n",
    "            reaction.add_metabolites({met: round(coefficient,3)})\n",
    "        \n",
    "    return reaction"
   ]
  },
  {
   "cell_type": "code",
   "execution_count": 9,
   "id": "fa7a68a2",
   "metadata": {},
   "outputs": [
    {
     "name": "stdout",
     "output_type": "stream",
     "text": [
      "Restricted license - for non-production use only - expires 2025-11-24\n",
      "ECM_0: 1.838 M_CO2ex_gen_syn + 0.5 M_NH3_syn + 15.724 M_hv_gen_syn --> 1.795 M_O2expool_gen_syn + 0.04 M_bm_syn\n",
      "ECM_1: M_CO2ex_gen_syn + 7.125 M_hv_gen_syn --> 0.5 M_O2expool_gen_syn + 0.5 M_glyox_syn\n",
      "ECM_2: M_CO2ex_gen_syn + 8.0 M_hv_gen_syn --> M_O2expool_gen_syn + 0.5 M_ac_pool_syn\n",
      "ECM_3: M_CO2ex_gen_syn + 8.0 M_hv_gen_syn --> M_O2expool_gen_syn + 0.5 M_ac_pool_syn\n",
      "ECM_4: 3.0 M_CO2ex_gen_syn + 24.5 M_hv_gen_syn --> 3.0 M_O2expool_gen_syn + 0.5 M_polyglcex_gen_syn\n",
      "ECM_5: 1.838 M_CO2ex_gen_syn + 0.5 M_NH3_syn + 15.724 M_hv_gen_syn --> 1.795 M_O2expool_gen_syn + 0.04 M_bm_syn\n",
      "ECM_6: M_CO2ex_gen_syn + 10.25 M_hv_gen_syn --> 0.75 M_O2expool_gen_syn + 0.5 M_glycpool_gen_syn\n"
     ]
    }
   ],
   "source": [
    "model = Model('nested_model_fromscratch')\n",
    "model_syn = Model('nested_syn')\n",
    "\n",
    "\n",
    "ecm_syn = getNormalizedData2(selected_ecms_syn, \"293.15K\")\n",
    "ecm = getNormalizedData2(selected_ecms, \"293.15K\")    \n",
    "\n",
    "for index, ecm in selected_ecms.iterrows():\n",
    "    reaction = create_reaction_from_ecm(ecm, index, model)\n",
    "    model.add_reactions([reaction])\n",
    "\n",
    "for index, ecm in selected_ecms_syn.iterrows():\n",
    "    reaction = create_reaction_from_ecm(ecm, index, model_syn)\n",
    "    model_syn.add_reactions([reaction])\n",
    "\n",
    "for reac in model_syn.reactions:\n",
    "    print(reac)"
   ]
  },
  {
   "cell_type": "code",
   "execution_count": 10,
   "id": "4510bb08",
   "metadata": {},
   "outputs": [
    {
     "name": "stdout",
     "output_type": "stream",
     "text": [
      "DM_M_bm_syn: M_bm_syn --> \n",
      "Maximize\n",
      "1.0*DM_M_bm_syn - 1.0*DM_M_bm_syn_reverse_688e6\n"
     ]
    }
   ],
   "source": [
    "for met_id in model_syn.metabolites:\n",
    "    if 'bm' in met_id.id:\n",
    "            model_syn.add_boundary(model_syn.metabolites.get_by_id(met_id.id), type=\"demand\")\n",
    "    else:\n",
    "        met = model_syn.metabolites.get_by_id(met_id.id)\n",
    "        met.compartment = 'e'\n",
    "        model_syn.add_boundary(model_syn.metabolites.get_by_id(met_id.id), type=\"exchange\")\n",
    "\n",
    "for reac in model_syn.reactions:\n",
    "    #for met in reac.metabolites:\n",
    "        if 'DM_M_bm' in reac.id:\n",
    "            print(reac)\n",
    "            objective_id = str(reac.id)\n",
    "            reac.objective_coefficient = 1\n",
    "            biomass_reaction = model_syn.reactions.get_by_id(reac.id)  \n",
    "            model_syn.objective = biomass_reaction\n",
    "            print(model_syn.objective)\n",
    "            break\n",
    "            "
   ]
  },
  {
   "cell_type": "code",
   "execution_count": 11,
   "id": "8df17a06",
   "metadata": {},
   "outputs": [
    {
     "name": "stdout",
     "output_type": "stream",
     "text": [
      "ECM_0: M_NH3ex_gen_fap + 0.574 M_O2expool_gen_fap + 2.776 M_glycpool_gen_fap + 3.247 M_hv_gen_fap --> 1.876 M_CO2ex_gen_fap + 0.08 M_bm_fap\n",
      "ECM_1: M_NH3ex_gen_fap + 2.776 M_glycpool_gen_fap + 9.559 M_hv_gen_fap --> 1.876 M_CO2ex_gen_fap + 1.148 M_H2pool_gen_fap + 0.08 M_bm_fap\n",
      "ECM_2: M_NH3ex_gen_fap + 2.393 M_glycpool_gen_fap + 9.75 M_hv_gen_fap --> 1.11 M_CO2ex_gen_fap + 0.08 M_bm_fap\n",
      "ECM_3: M_hv_gen_fap --> 0.5 M_ATPex_fap\n",
      "ECM_4: 3.0 M_ac_pool_fap + 0.5 M_glycpool_gen_fap + 12.0 M_hv_gen_fap --> M_CO2ex_gen_fap + 1.5 M_PHB_fap\n",
      "ECM_5: M_NH3ex_gen_fap + 0.524 M_ac_pool_fap + 1.728 M_glycpool_gen_fap + 11.131 M_hv_gen_fap --> 0.828 M_CO2ex_gen_fap + 0.1 M_H2pool_gen_fap + 0.08 M_bm_fap\n",
      "ECM_6: 1309.108 M_H2pool_gen_srb + 37.539 M_NH3ex_gen_srb + 328.893 M_SO4ex_gen_srb + 68.994 M_ac_pool_srb --> 328.893 M_H2Sex_gen_srb + 3.0 M_bm_srb\n",
      "ECM_7: 22.672 M_CO2ex_gen_srb + 684.784 M_H2pool_gen_srb + 18.77 M_NH3ex_gen_srb + 160.668 M_SO4ex_gen_srb + 23.161 M_ac_pool_srb --> 160.668 M_H2Sex_gen_srb + 1.5 M_bm_srb\n",
      "ECM_8: 45.996 M_CO2ex_gen_srb + 518.285 M_H2pool_gen_srb + 12.513 M_NH3ex_gen_srb + 107.112 M_SO4ex_gen_srb --> 107.112 M_H2Sex_gen_srb + M_bm_srb\n",
      "ECM_9: M_SO4ex_gen_srb + 1.4 M_ac_pool_srb --> 2.8 M_CO2ex_gen_srb + M_H2Sex_gen_srb + 1.6 M_H2pool_gen_srb\n",
      "ECM_10: M_SO4ex_gen_srb + M_ac_pool_srb --> 2.0 M_CO2ex_gen_srb + M_H2Sex_gen_srb\n",
      "ECM_11: M_SO4ex_gen_srb + M_ac_pool_srb --> 0.5 M_ATPex_srb + 2.0 M_CO2ex_gen_srb + M_H2Sex_gen_srb\n",
      "ECM_12: 1.838 M_CO2ex_gen_syn + 0.5 M_NH3_syn + 15.724 M_hv_gen_syn --> 1.795 M_O2expool_gen_syn + 0.04 M_bm_syn\n",
      "ECM_13: M_CO2ex_gen_syn + 7.125 M_hv_gen_syn --> 0.5 M_O2expool_gen_syn + 0.5 M_glyox_syn\n",
      "ECM_14: M_CO2ex_gen_syn + 8.0 M_hv_gen_syn --> M_O2expool_gen_syn + 0.5 M_ac_pool_syn\n",
      "ECM_15: M_CO2ex_gen_syn + 8.0 M_hv_gen_syn --> M_O2expool_gen_syn + 0.5 M_ac_pool_syn\n",
      "ECM_16: 3.0 M_CO2ex_gen_syn + 24.5 M_hv_gen_syn --> 3.0 M_O2expool_gen_syn + 0.5 M_polyglcex_gen_syn\n",
      "ECM_17: 1.838 M_CO2ex_gen_syn + 0.5 M_NH3_syn + 15.724 M_hv_gen_syn --> 1.795 M_O2expool_gen_syn + 0.04 M_bm_syn\n",
      "ECM_18: M_CO2ex_gen_syn + 10.25 M_hv_gen_syn --> 0.75 M_O2expool_gen_syn + 0.5 M_glycpool_gen_syn\n"
     ]
    }
   ],
   "source": [
    "for met in model.reactions:\n",
    "    print(met)\n",
    "cobra.io.write_sbml_model(model_syn, 'nested_model_syn.xml')\n",
    "\n",
    "syn = cobra.io.read_sbml_model('syn.xml')\n",
    "\n"
   ]
  },
  {
   "cell_type": "code",
   "execution_count": 12,
   "id": "3da03126",
   "metadata": {},
   "outputs": [
    {
     "name": "stderr",
     "output_type": "stream",
     "text": [
      "C:\\Users\\Jasovsju\\anaconda3\\Lib\\site-packages\\cobra\\core\\reaction.py:810: UserWarning: Setting reaction reversibility is ignored\n",
      "  warn(\"Setting reaction reversibility is ignored\")\n"
     ]
    }
   ],
   "source": [
    "additional_reaction = {\n",
    "'vlv_glyc_fap': {'metabolites': {'M_glycpool_gen_syn': -0.5, 'M_glycpool_gen_fap': 0.5}},\n",
    "'vlv_glyc_srb': {'metabolites': {'M_glycpool_gen_syn': -0.5, 'M_glycpool_gen_srb': 0.5}},\n",
    "'vlv_ac_fap': {'metabolites': {'M_ac_pool_syn': -0.5, 'M_ac_pool_fap': 0.5}},\n",
    "'vlv_ac_srb': {'metabolites': {'M_ac_pool_syn': -0.5, 'M_ac_pool_syn':0.5}}\n",
    "}\n",
    "glyc_syn = model.metabolites.get_by_id('M_glycpool_gen_syn')\n",
    "glyc_fap = model.metabolites.get_by_id('M_glycpool_gen_fap')\n",
    "ac_syn = model.metabolites.get_by_id('M_ac_pool_syn')\n",
    "ac_fap = model.metabolites.get_by_id('M_ac_pool_fap')\n",
    "ac_srb = model.metabolites.get_by_id('M_ac_pool_srb')\n",
    "\n",
    "\n",
    "\n",
    "\n",
    "\n",
    "vlv_glyc_fap = Reaction('vlv_glyc_fap')\n",
    "vlv_glyc_fap.id = 'vlv_glyc_fap'\n",
    "vlv_glyc_fap.lower_bound = -1000\n",
    "vlv_glyc_fap.upper_bound = 1000\n",
    "vlv_glyc_fap.add_metabolites({glyc_syn: -0.5,glyc_fap: 0.5})\n",
    "model.add_reactions([vlv_glyc_fap])\n",
    "\n",
    "vlv_ac_fap = Reaction('vlv_ac_fap')\n",
    "vlv_ac_fap.id = 'vlv_ac_fap'\n",
    "vlv_ac_fap.lower_bound = -1000\n",
    "vlv_ac_fap.upper_bound = 1000\n",
    "vlv_ac_fap.reversibility = True\n",
    "vlv_ac_fap.add_metabolites({ac_syn: -0.5,ac_fap: 0.5})\n",
    "model.add_reactions([vlv_ac_fap])\n",
    "\n",
    "vlv_ac_srb = Reaction('vlv_ac_srb')\n",
    "vlv_ac_srb.id = 'vlv_ac_srb'\n",
    "vlv_ac_srb.lower_bound = -1000\n",
    "vlv_ac_srb.upper_bound = 1000\n",
    "vlv_ac_srb.reversibility = True\n",
    "vlv_ac_srb.add_metabolites({ac_syn: -0.5,ac_srb: 0.5})\n",
    "model.add_reactions([vlv_ac_srb])\n"
   ]
  },
  {
   "cell_type": "code",
   "execution_count": 13,
   "id": "c11cfec8",
   "metadata": {},
   "outputs": [
    {
     "name": "stdout",
     "output_type": "stream",
     "text": [
      "bm\n",
      "Maximize\n",
      "1.0*bm_obj - 1.0*bm_obj_reverse_b59b4\n"
     ]
    }
   ],
   "source": [
    "bm_fap_srb_syn = Metabolite('bm_fap_srb_syn', compartment='c')\n",
    "bm = Metabolite('bm', compartment='c')\n",
    "model.add_metabolites([bm_fap_srb_syn])\n",
    "bm_obj = Reaction('bm_obj')\n",
    "bm1 = Reaction('bm1')\n",
    "bm2 = Reaction('bm2')\n",
    "bm3 = Reaction('bm3')\n",
    "\n",
    "#bm.id = 'bm'\n",
    "#bm.name = 'Community Biomass'\n",
    "bm_fap = model.metabolites.get_by_id('M_bm_fap')\n",
    "bm_srb = model.metabolites.get_by_id('M_bm_srb')\n",
    "bm_syn = model.metabolites.get_by_id('M_bm_syn')\n",
    "bm_obj.add_metabolites({bm_fap: -1, bm_srb: -1, bm_syn: -1, bm: 1})\n",
    "bm1.add_metabolites({bm_fap: -1, bm_fap_srb_syn: 1})\n",
    "bm2.add_metabolites({bm_srb: -1, bm_fap_srb_syn: 1})\n",
    "bm3.add_metabolites({bm_syn: -1, bm_fap_srb_syn: 1})\n",
    "model.add_reactions([bm_obj, bm1, bm2, bm3])\n",
    "print(bm)\n",
    "\n",
    "objective_id = str(bm_obj.id)\n",
    "bm_obj.objective_coefficient = 1\n",
    "biomass_reaction = model.reactions.get_by_id('bm_obj')  \n",
    "model.objective = biomass_reaction\n",
    "print(model.objective)\n",
    "\n"
   ]
  },
  {
   "cell_type": "code",
   "execution_count": 14,
   "id": "c3bc1cf3",
   "metadata": {},
   "outputs": [
    {
     "name": "stdout",
     "output_type": "stream",
     "text": [
      "M_CO2ex_gen_fap\n",
      "M_NH3ex_gen_fap\n",
      "M_bm_fap\n",
      "M_hv_gen_fap\n",
      "M_glycpool_gen_fap\n",
      "M_O2expool_gen_fap\n",
      "M_H2pool_gen_fap\n",
      "M_ATPex_fap\n",
      "M_PHB_fap\n",
      "M_ac_pool_fap\n",
      "M_SO4ex_gen_srb\n",
      "M_H2Sex_gen_srb\n",
      "M_bm_srb\n",
      "M_NH3ex_gen_srb\n",
      "M_H2pool_gen_srb\n",
      "M_ac_pool_srb\n",
      "M_CO2ex_gen_srb\n",
      "M_ATPex_srb\n",
      "M_CO2ex_gen_syn\n",
      "M_NH3_syn\n",
      "M_bm_syn\n",
      "M_hv_gen_syn\n",
      "M_O2expool_gen_syn\n",
      "M_glyox_syn\n",
      "M_ac_pool_syn\n",
      "M_polyglcex_gen_syn\n",
      "M_glycpool_gen_syn\n",
      "bm_fap_srb_syn\n",
      "bm\n"
     ]
    }
   ],
   "source": [
    "for met in model.metabolites:\n",
    "    meta = model.metabolites.get_by_id(met.id)\n",
    "    print(met.id)"
   ]
  },
  {
   "cell_type": "code",
   "execution_count": 15,
   "id": "5e8cf6c3",
   "metadata": {},
   "outputs": [],
   "source": [
    "       \n",
    "demand_metabolites = [\n",
    "     \"M_PHB_fap\", \"M_ATPex_srb\",  \"M_ATPex_fap\", 'bm_fap_srb_syn', \"bm\"#, 'M_bm_fap', 'M_bm_srb', 'M_bm_syn'#\"M_ATPex_syn\",\n",
    "]\n",
    "sink_metabolites = [\n",
    "     \"M_hv_gen_fap\", \"M_hv_gen_syn\", \"M_polyglcex_gen_syn\"#, \"hv_gen\", \n",
    "]\n",
    "exchange_metabolites = [\n",
    "    'M_CO2ex_gen_fap','M_CO2ex_gen_srb','M_CO2ex_gen_syn', 'M_H2Sex_gen_srb', 'M_NH3ex_gen_fap','M_NH3ex_gen_srb','M_NH3_syn',\n",
    "    'M_O2expool_gen_fap','M_O2expool_gen_syn', 'M_SO4ex_gen_srb', 'M_H2pool_gen_fap', 'M_H2pool_gen_srb'#, \"M_hv_gen_fap\", \"M_hv_gen_syn\", \"M_glycpool_gen_fap\"#, 'M_bm_fap', 'M_bm_srb', 'M_bm_syn'\n",
    "]\n",
    "\n",
    "# Austauschreaktionen für alle externen Metaboliten hinzufügen\n",
    "for met_id in demand_metabolites:\n",
    "    model.add_boundary(model.metabolites.get_by_id(met_id), type=\"demand\")\n",
    "\n",
    "for met_id in sink_metabolites:\n",
    "    model.add_boundary(model.metabolites.get_by_id(met_id), type=\"sink\")\n",
    "    met = model.metabolites.get_by_id(met_id)\n",
    "    #met.compartment = 'e'\n",
    "    \n",
    "for met_id in exchange_metabolites:\n",
    "    met = model.metabolites.get_by_id(met_id)\n",
    "    met.compartment = 'e'\n",
    "    model.add_boundary(model.metabolites.get_by_id(met_id), type=\"exchange\")\n",
    "    "
   ]
  },
  {
   "cell_type": "code",
   "execution_count": null,
   "id": "01ab345a",
   "metadata": {},
   "outputs": [],
   "source": [
    "cobra.io.write_sbml_model(model, 'nested_model.xml')\n"
   ]
  },
  {
   "cell_type": "code",
   "execution_count": null,
   "id": "0c4ef3f7",
   "metadata": {},
   "outputs": [],
   "source": [
    "       \n",
    "\n"
   ]
  },
  {
   "cell_type": "code",
   "execution_count": null,
   "id": "a0956072",
   "metadata": {},
   "outputs": [],
   "source": []
  },
  {
   "cell_type": "code",
   "execution_count": 16,
   "id": "8a1f2068",
   "metadata": {},
   "outputs": [],
   "source": [
    "\n"
   ]
  },
  {
   "cell_type": "code",
   "execution_count": null,
   "id": "af3ec8b4",
   "metadata": {},
   "outputs": [],
   "source": []
  },
  {
   "cell_type": "code",
   "execution_count": null,
   "id": "1a160a92",
   "metadata": {
    "scrolled": false
   },
   "outputs": [],
   "source": []
  },
  {
   "cell_type": "code",
   "execution_count": null,
   "id": "d5e03440",
   "metadata": {},
   "outputs": [],
   "source": []
  },
  {
   "cell_type": "code",
   "execution_count": null,
   "id": "23971aab",
   "metadata": {},
   "outputs": [],
   "source": []
  },
  {
   "cell_type": "code",
   "execution_count": null,
   "id": "ca14bdb3",
   "metadata": {},
   "outputs": [],
   "source": []
  },
  {
   "cell_type": "code",
   "execution_count": null,
   "id": "f731aa19",
   "metadata": {},
   "outputs": [],
   "source": []
  }
 ],
 "metadata": {
  "kernelspec": {
   "display_name": "Python 3 (ipykernel)",
   "language": "python",
   "name": "python3"
  },
  "language_info": {
   "codemirror_mode": {
    "name": "ipython",
    "version": 3
   },
   "file_extension": ".py",
   "mimetype": "text/x-python",
   "name": "python",
   "nbconvert_exporter": "python",
   "pygments_lexer": "ipython3",
   "version": "3.11.9"
  }
 },
 "nbformat": 4,
 "nbformat_minor": 5
}
